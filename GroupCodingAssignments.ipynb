{
  "nbformat": 4,
  "nbformat_minor": 0,
  "metadata": {
    "celltoolbar": "Raw Cell Format",
    "kernelspec": {
      "display_name": "Python 3",
      "language": "python",
      "name": "python3"
    },
    "language_info": {
      "codemirror_mode": {
        "name": "ipython",
        "version": 3
      },
      "file_extension": ".py",
      "mimetype": "text/x-python",
      "name": "python",
      "nbconvert_exporter": "python",
      "pygments_lexer": "ipython3",
      "version": "3.7.3"
    },
    "colab": {
      "provenance": [],
      "include_colab_link": true
    }
  },
  "cells": [
    {
      "cell_type": "markdown",
      "metadata": {
        "id": "view-in-github",
        "colab_type": "text"
      },
      "source": [
        "<a href=\"https://colab.research.google.com/github/SimonKato/deep-learning-pytorch/blob/master/GroupCodingAssignments.ipynb\" target=\"_parent\"><img src=\"https://colab.research.google.com/assets/colab-badge.svg\" alt=\"Open In Colab\"/></a>"
      ]
    },
    {
      "cell_type": "markdown",
      "metadata": {
        "id": "rnpk6PJry21v"
      },
      "source": [
        "<img src=\"https://news.illinois.edu/files/6367/543635/116641.jpg\" alt=\"University of Illinois\" width=\"250\"/>\n",
        "\n",
        "## Group Coding Assignments for Deep Learning ##\n",
        "\n",
        "Note:  Anaconda Python <https://www.anaconda.com/distribution/> is a strong implementation of python."
      ]
    },
    {
      "cell_type": "markdown",
      "metadata": {
        "id": "b2CU_7Bgy212"
      },
      "source": [
        "### imports and graphics configurations ###"
      ]
    },
    {
      "cell_type": "code",
      "metadata": {
        "id": "6elr9Ogwy213"
      },
      "source": [
        "import numpy\n",
        "import pandas\n",
        "import time\n",
        "import random\n",
        "import matplotlib\n",
        "#%matplotlib notebook\n",
        "import matplotlib.pyplot as plt\n",
        "import scipy.stats\n",
        "import matplotlib.offsetbox as offsetbox\n",
        "from matplotlib.ticker import StrMethodFormatter"
      ],
      "execution_count": null,
      "outputs": []
    },
    {
      "cell_type": "code",
      "metadata": {
        "id": "ydypCNbYy213"
      },
      "source": [
        "#for some reason, this needs to be in a separate cell\n",
        "params={\n",
        "    \"font.size\":15,\n",
        "    \"lines.linewidth\":5,\n",
        "}\n",
        "plt.rcParams.update(params)"
      ],
      "execution_count": null,
      "outputs": []
    },
    {
      "cell_type": "markdown",
      "metadata": {
        "id": "Vxa_BAz36MZY"
      },
      "source": [
        "# **Technology** #"
      ]
    },
    {
      "cell_type": "markdown",
      "metadata": {
        "id": "MTcO0Y5n6Pnm"
      },
      "source": [
        "**Technology:** Compute $\\cos(k\\pi/10)$ for $k\\in \\{0,1,2,\\dots 20\\}$"
      ]
    },
    {
      "cell_type": "markdown",
      "metadata": {
        "id": "-v7OKcoHzH-t"
      },
      "source": [
        "# **Linear Regression** #"
      ]
    },
    {
      "cell_type": "markdown",
      "metadata": {
        "id": "4i86xM4MpjoP"
      },
      "source": [
        "**Feature Importance:** Consider linear regression of price upon the feature set\n",
        "* Square Feet\n",
        "* number of Beds\n",
        "* number of Baths\n",
        "* Year built\n",
        "* HOA/Month\n",
        "\n",
        "One by one, remove (using sklearn if you like) each of these features and repeat linear regression.\n",
        "* Rank features by how the loss (mean square error) changes as each of the features is removed\n",
        "* Rank features by how the metric (mean absolute error) changes as each of the features is removed"
      ]
    },
    {
      "cell_type": "markdown",
      "metadata": {
        "id": "zPaxaH3Uy214"
      },
      "source": [
        "# **Logistic Regression** #"
      ]
    },
    {
      "cell_type": "markdown",
      "metadata": {
        "id": "o9oq8jgzy214"
      },
      "source": [
        "**Transition Layer Width:** Take $N=200$ Gaussian points on the line centered at 0 and with variance 1.  Assign label 1 to the ones to the right of the origin and assign label 0 to the ones on the left of the origin.  Carry out the following with PyTorch\n",
        "* Carry out logistic regression, and note the width (scale) of the transition layer.\n",
        "* Flip 5 points on each side of the origin to the 'wrong' label and note the width (scale) of the transition layer\n",
        "* Flip 5 more points on each side of the origin to the 'wrong' label and note the width (scale) of the transition layer\n",
        "* Repeat this for 15, 20, 25, 30, 35 points and plot the width (scale) of the transition layer as a function of the number of points with the 'wrong' label."
      ]
    },
    {
      "cell_type": "markdown",
      "metadata": {
        "id": "JF56uUSqQ6Rm"
      },
      "source": [
        "**Biased Data:** Using the data from the lecture, Regress (you can use sklearn) property type (single family residential or not) on square footage and price for both Evanston and Champaign.  Compare performances.  Also note biases in datasets (Champaign may have proportionally more single-family residences than Evanston)."
      ]
    },
    {
      "cell_type": "markdown",
      "metadata": {
        "id": "gPeEc-b-hQhE"
      },
      "source": [
        "# **Truth Tables** #"
      ]
    },
    {
      "cell_type": "markdown",
      "metadata": {
        "id": "4JkM8vimiipi"
      },
      "source": [
        "**Skewed Quadrants**:  Consider a decision rule in the $(x,y)$ plane which gives\n",
        "*  Class 1 if $x>-1$ and $y<2x+3$\n",
        "*  Class 0 otherwise\n",
        "\n",
        "Questions:\n",
        "*  Explicitly construct a two-layer neural network with sigmoidal activations\n",
        "*  Use pytorch to construct a neural network doing the same thing. Explain the results."
      ]
    }
  ]
}